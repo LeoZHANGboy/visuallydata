{
 "cells": [
  {
   "cell_type": "code",
   "execution_count": 3,
   "metadata": {
    "collapsed": true
   },
   "outputs": [],
   "source": [
    "import pickle as pkl\n",
    "from pprint import pprint\n",
    "\n",
    "class infographicInfo:\n",
    "    def __init__(self,currow):\n",
    "        self.views = int(currow['views']);\n",
    "        self.likes = int(currow['likes']);\n",
    "        self.shares = int(currow['shares']);\n",
    "        self.comments = int(currow['comments']);\n",
    "        self.staffPick = currow['staffPick'];\n",
    "        self.imgurl = currow['url_img_ful_res'];\n",
    "        self.mainurl = currow['url'];\n",
    "        self.title = currow['igTitle'];\n",
    "        self.category = currow['category'];\n",
    "        self.description = currow['description'];\n",
    "        self.title = currow['title'];\n",
    "        self.tags = currow['tags'];"
   ]
  },
  {
   "cell_type": "code",
   "execution_count": 4,
   "metadata": {
    "collapsed": false
   },
   "outputs": [],
   "source": [
    "infographicList = pkl.load(open(\"infographics60K_metadata.pckl\", \"rb\"))"
   ]
  },
  {
   "cell_type": "code",
   "execution_count": 5,
   "metadata": {
    "collapsed": false
   },
   "outputs": [
    {
     "name": "stdout",
     "output_type": "stream",
     "text": [
      "{'category': 'Business',\n",
      " 'comments': 7,\n",
      " 'description': \"Visually's latest report dives into the relationship between \"\n",
      "                'marketers and creatives.',\n",
      " 'imgurl': 'http://thumbnails.visually.netdna-cdn.com/marketers-vs-creatives-communication-breakdown-thumbnail_5639568df0acc_h1000.png',\n",
      " 'imname': 'marketers-vs-creatives-communication-breakdown-thumbnail_5639568df0acc.png',\n",
      " 'likes': 150,\n",
      " 'mainurl': 'http://visual.ly/marketers-vs-creatives-communication-breakdown',\n",
      " 'shares': 75,\n",
      " 'staffPick': 'FALSE',\n",
      " 'tags': ['marketing', 'content', 'markting in business', 'designers'],\n",
      " 'title': 'Marketers vs Creatives: Communication Breakdown',\n",
      " 'transcript': [],\n",
      " 'views': 8760}\n"
     ]
    }
   ],
   "source": [
    "pprint(infographicList[0].__dict__)"
   ]
  },
  {
   "cell_type": "code",
   "execution_count": null,
   "metadata": {
    "collapsed": true
   },
   "outputs": [],
   "source": []
  }
 ],
 "metadata": {
  "kernelspec": {
   "display_name": "Python 3",
   "language": "python",
   "name": "python3"
  },
  "language_info": {
   "codemirror_mode": {
    "name": "ipython",
    "version": 3
   },
   "file_extension": ".py",
   "mimetype": "text/x-python",
   "name": "python",
   "nbconvert_exporter": "python",
   "pygments_lexer": "ipython3",
   "version": "3.6.0"
  }
 },
 "nbformat": 4,
 "nbformat_minor": 2
}
