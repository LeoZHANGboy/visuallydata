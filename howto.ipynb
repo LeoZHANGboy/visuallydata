{
 "cells": [
  {
   "cell_type": "code",
   "execution_count": 1,
   "metadata": {
    "collapsed": true
   },
   "outputs": [],
   "source": [
    "import pickle as pkl\n",
    "from pprint import pprint\n",
    "import numpy as np\n",
    "import time\n",
    "import urllib\n",
    "import urllib.request\n",
    "import os\n",
    "\n",
    "class infographicInfo:\n",
    "    def __init__(self,currow):\n",
    "        self.views = int(currow['views']);\n",
    "        self.likes = int(currow['likes']);\n",
    "        self.shares = int(currow['shares']);\n",
    "        self.comments = int(currow['comments']);\n",
    "        self.staffPick = currow['staffPick'];\n",
    "        self.imgurl = currow['url_img_ful_res'];\n",
    "        self.mainurl = currow['url'];\n",
    "        self.title = currow['igTitle'];\n",
    "        self.category = currow['category'];\n",
    "        self.description = currow['description'];\n",
    "        self.title = currow['title'];\n",
    "        self.tags = currow['tags'];"
   ]
  },
  {
   "cell_type": "markdown",
   "metadata": {},
   "source": [
    "# Get the meta-data for the infographic dataset: #"
   ]
  },
  {
   "cell_type": "code",
   "execution_count": 2,
   "metadata": {
    "collapsed": false
   },
   "outputs": [],
   "source": [
    "infographicList = pkl.load(open(\"infographics60K_metadata.pckl\", \"rb\"))"
   ]
  },
  {
   "cell_type": "code",
   "execution_count": 3,
   "metadata": {
    "collapsed": false
   },
   "outputs": [
    {
     "name": "stdout",
     "output_type": "stream",
     "text": [
      "We include meta-data obtained from Visual.ly for 63738 infographics. We call this the 63K dataset.\n",
      "No additional filtering or annotations are provided beyond what is already found on Visual.ly.\n",
      "This is the original, uncurated data.\n",
      "Note: we do not provide the downloaded images themselves, only the URLs for download.\n"
     ]
    }
   ],
   "source": [
    "print('We include meta-data obtained from Visual.ly for %d infographics. We call this the 63K dataset.\\n'\\\n",
    "       'No additional filtering or annotations are provided beyond what is already found on Visual.ly.\\n'\\\n",
    "       'This is the original, uncurated data.\\n'\\\n",
    "      'Note: we do not provide the downloaded images themselves, only the URLs for download.'\n",
    "      %(len(infographicList)))"
   ]
  },
  {
   "cell_type": "code",
   "execution_count": 4,
   "metadata": {
    "collapsed": false
   },
   "outputs": [
    {
     "name": "stdout",
     "output_type": "stream",
     "text": [
      "{'category': 'Business',\n",
      " 'comments': 7,\n",
      " 'description': \"Visually's latest report dives into the relationship between \"\n",
      "                'marketers and creatives.',\n",
      " 'imgurl': 'http://thumbnails.visually.netdna-cdn.com/marketers-vs-creatives-communication-breakdown-thumbnail_5639568df0acc_h1000.png',\n",
      " 'imname': 'marketers-vs-creatives-communication-breakdown-thumbnail_5639568df0acc.png',\n",
      " 'likes': 150,\n",
      " 'mainurl': 'http://visual.ly/marketers-vs-creatives-communication-breakdown',\n",
      " 'shares': 75,\n",
      " 'staffPick': 'FALSE',\n",
      " 'tags': ['marketing', 'content', 'markting in business', 'designers'],\n",
      " 'title': 'Marketers vs Creatives: Communication Breakdown',\n",
      " 'transcript': [],\n",
      " 'views': 8760}\n"
     ]
    }
   ],
   "source": [
    "# Here we can see all the meta-data that is available per infographic.\n",
    "pprint(infographicList[0].__dict__)"
   ]
  },
  {
   "cell_type": "code",
   "execution_count": 5,
   "metadata": {
    "collapsed": false
   },
   "outputs": [
    {
     "name": "stdout",
     "output_type": "stream",
     "text": [
      "63727 (99%) of the infographics have titles, 60337 (94%) have descriptions, 1193 (1%) have associated transcripts.\n"
     ]
    }
   ],
   "source": [
    "n1 = len([i for i in range(len(infographicList)) if len(infographicList[i].title)])\n",
    "n2 = len([i for i in range(len(infographicList)) if len(infographicList[i].description)])\n",
    "n3 = len([i for i in range(len(infographicList)) if len(infographicList[i].transcript)])\n",
    "tot = float(len(infographicList))\n",
    "print('%d (%d%%) of the infographics have titles, %d (%d%%) have descriptions, %d (%d%%) have associated transcripts.'\\\n",
    "%(n1,100*n1/tot,n2,100*n2/tot,n3,100*n3/tot))\n",
    "  "
   ]
  },
  {
   "cell_type": "markdown",
   "metadata": {},
   "source": [
    "### Notes about metadata ###\n",
    "* category: 1 of 26 categories (listed in https://github.com/cvzoya/visuallydata/blob/master/29kfiles/map_labels_cats.txt)\n",
    "* comments: # of comments about this infographic on the Visual.ly page (a quantification of interest/popularity)\n",
    "* description: the free-form description provided by the infographic's designer (can be used for caption prediction tasks)\n",
    "* imgurl: the URL from which the image can be downloaded (at high resolution)\n",
    "* imname: the filename of the image\n",
    "* likes: # of likes this infographic received on Visual.ly (a quantification of interest/popularity)\n",
    "* mainurl: the URL of the page containing both the infographic image and metadata on Visual.ly\n",
    "* shares: # of shares this infographic received on Visual.ly (a quantification of interest/popularity)\n",
    "* staffPick: whether this infographic was a staff pick at Visual.ly (a binary quality attribute)\n",
    "* tags: free-form tags (multiple) given to the infographic by the designer\n",
    "* title: the title of the infographic (can be used for caption prediction tasks)\n",
    "* transcript: about 1K infographics (see cell above) come with transcripts of the content (can be used for captioning and summarization tasks)\n",
    "* views: # of times this infographic was viewe on Visual.ly (a quantification of interest/popularity)"
   ]
  },
  {
   "cell_type": "code",
   "execution_count": 6,
   "metadata": {
    "collapsed": false
   },
   "outputs": [
    {
     "name": "stdout",
     "output_type": "stream",
     "text": [
      "Out of the 63738 original infographics, we curated a subset of 28973 infographics. We call this the 29K dataset.\n",
      "For various learning tasks in our paper, we split them into 26076 training images and 2897 test images.\n"
     ]
    }
   ],
   "source": [
    "lines = open('29kfiles/train.txt','rb').readlines()\n",
    "trainfiles = [l.split()[0] for l in lines] # train files\n",
    "lines = open('29kfiles/test.txt','rb').readlines()\n",
    "testfiles = [l.split()[0] for l in lines] # test files\n",
    "print('Out of the %d original infographics, we curated a subset of %d infographics. We call this the 29K dataset.\\n'\\\n",
    "      'For various learning tasks in our paper, we split them into %d training images and %d test images.'\n",
    "     %(len(infographicList),len(trainfiles)+len(testfiles),len(trainfiles),len(testfiles)))"
   ]
  },
  {
   "cell_type": "markdown",
   "metadata": {},
   "source": [
    "https://github.com/cvzoya/visuallydata/blob/master/29kfiles/train.txt contains a list (one filename per line) of the training infographics. https://github.com/cvzoya/visuallydata/blob/master/29kfiles/test.txt contains a list (one filename per line) of the test infographics.\n",
    "\n",
    "Each filename (imname) is followed by an integer (0-25) that corresponds to the category of the infographic (see https://github.com/cvzoya/visuallydata/blob/master/29kfiles/map_labels_cats.txt) and (multiple) additional integers (0-390) that correspond to the tags of an infographic (see https://github.com/cvzoya/visuallydata/blob/master/29kfiles/map_labels_tags.txt)."
   ]
  },
  {
   "cell_type": "code",
   "execution_count": 7,
   "metadata": {
    "collapsed": false
   },
   "outputs": [
    {
     "name": "stdout",
     "output_type": "stream",
     "text": [
      "The average number of tags per infographic: 2 (range: 1-9).\n"
     ]
    }
   ],
   "source": [
    "lines = open('29kfiles/train.txt','rb').readlines()\n",
    "alltags = [l.split()[2:] for l in lines]\n",
    "lines2 = open('29kfiles/test.txt','rb').readlines()\n",
    "alltags.extend([l.split()[2:] for l in lines2])\n",
    "ntags = [len(t) for t in alltags]\n",
    "print('The average number of tags per infographic: %d (range: %d-%d).'\n",
    "      %(np.mean(ntags),min(ntags),max(ntags)))\n"
   ]
  },
  {
   "cell_type": "markdown",
   "metadata": {},
   "source": [
    "### Notes about 29K dataset and tags ###\n",
    "\n",
    "These tags were curated from the original free-form tags of the 63K dataset. \n",
    "Many of the original tags are either semantically\n",
    "redundant or have too few instances. Redundant tags\n",
    "were merged using WordNet and manually, and only\n",
    "the 391 tags with at least 50 image instances each were retained.\n",
    "To produce the final 29K dataset, we further filtered\n",
    "images to contain a category annotation, and at least one of the\n",
    "391 tags."
   ]
  },
  {
   "cell_type": "markdown",
   "metadata": {},
   "source": [
    "# Download the infographic images: #"
   ]
  },
  {
   "cell_type": "code",
   "execution_count": null,
   "metadata": {
    "collapsed": true
   },
   "outputs": [],
   "source": [
    "### Download a"
   ]
  },
  {
   "cell_type": "code",
   "execution_count": 8,
   "metadata": {
    "collapsed": false
   },
   "outputs": [],
   "source": [
    "#infographicList = pkl.load(open(\"infographics60K_metadata.pckl\", \"rb\"))\n",
    "\n",
    "outdir = 'fullsize-60k' # where to save the downloaded image files\n",
    "if not os.path.exists(outdir):\n",
    "    os.makedirs(outdir)\n",
    "\n",
    "for i in range(len(infographicList)):\n",
    "    \n",
    "    # use this url directly to obtain images (with limits on image width, indicated by '_w1000' in the filename)\n",
    "    url = infographicList[i].imgurl \n",
    "    \n",
    "    # use this adjusted url to obtain full-size images\n",
    "    usp = url.rfind('_') # underscore position\n",
    "    pp = url.rfind('.') # period position\n",
    "    fullsizeimurl = url[:usp] + url[pp:] # full size image url\n",
    "    \n",
    "    # the above is identical to just using the following, except for 3 images that have exceptionally long filenames\n",
    "    # (image IDs: 8865, 44810, 45886)\n",
    "    imname = infographicList[i].imname \n",
    "    fullurl = 'http://thumbnails.visually.netdna-cdn.com/%s'%(imname)\n",
    "    \n",
    "    #urllib.urlretrieve(fullsizeimurl, os.path.join(outdir,imname)) # python 2\n",
    "    urllib.request.urlretrieve(fullsizeimurl, os.path.join(outdir,imname)) # python 3\n",
    "    \n",
    "    time.sleep(1) # to avoid launching too many download requests at once\n",
    "    break # remove break to keep downloading images\n"
   ]
  },
  {
   "cell_type": "code",
   "execution_count": 17,
   "metadata": {
    "collapsed": false
   },
   "outputs": [
    {
     "name": "stdout",
     "output_type": "stream",
     "text": [
      ".\n",
      "\n",
      "..................................................\n",
      "\n",
      "............."
     ]
    },
    {
     "ename": "KeyboardInterrupt",
     "evalue": "",
     "output_type": "error",
     "traceback": [
      "\u001b[0;31m---------------------------------------------------------------------------\u001b[0m",
      "\u001b[0;31mKeyboardInterrupt\u001b[0m                         Traceback (most recent call last)",
      "\u001b[0;32m<ipython-input-17-069655526b1d>\u001b[0m in \u001b[0;36m<module>\u001b[0;34m()\u001b[0m\n\u001b[1;32m     16\u001b[0m     \u001b[0;32mif\u001b[0m \u001b[0mi\u001b[0m\u001b[0;34m%\u001b[0m\u001b[0;36m50\u001b[0m\u001b[0;34m==\u001b[0m\u001b[0;36m0\u001b[0m\u001b[0;34m:\u001b[0m\u001b[0;34m\u001b[0m\u001b[0m\n\u001b[1;32m     17\u001b[0m         \u001b[0mprint\u001b[0m\u001b[0;34m(\u001b[0m\u001b[0;34m'\\n'\u001b[0m\u001b[0;34m)\u001b[0m\u001b[0;34m\u001b[0m\u001b[0m\n\u001b[0;32m---> 18\u001b[0;31m     \u001b[0mtime\u001b[0m\u001b[0;34m.\u001b[0m\u001b[0msleep\u001b[0m\u001b[0;34m(\u001b[0m\u001b[0;36m1\u001b[0m\u001b[0;34m)\u001b[0m \u001b[0;31m# to avoid launching too many download requests at once\u001b[0m\u001b[0;34m\u001b[0m\u001b[0m\n\u001b[0m\u001b[1;32m     19\u001b[0m \u001b[0;34m\u001b[0m\u001b[0m\n\u001b[1;32m     20\u001b[0m     \u001b[0;32mif\u001b[0m \u001b[0mi\u001b[0m\u001b[0;34m>\u001b[0m\u001b[0;36m100\u001b[0m\u001b[0;34m:\u001b[0m\u001b[0;34m\u001b[0m\u001b[0m\n",
      "\u001b[0;31mKeyboardInterrupt\u001b[0m: "
     ]
    }
   ],
   "source": [
    "outdir = 'fullsize-60k' # where to save the downloaded image files\n",
    "if not os.path.exists(outdir):\n",
    "    os.makedirs(outdir)\n",
    "\n",
    "lines = open('29kfiles/test.txt','rb').readlines()\n",
    "testfilenames = [l.split()[0] for l in lines]\n",
    "\n",
    "for i in range(len(testfilenames)):\n",
    "    imname = testfilenames[i].decode('utf-8')\n",
    "    fullurl = 'http://thumbnails.visually.netdna-cdn.com/%s'%(imname)\n",
    "    \n",
    "    #urllib.urlretrieve(fullsizeimurl, os.path.join(outdir,imname)) # python 2\n",
    "    urllib.request.urlretrieve(fullsizeimurl, os.path.join(outdir,imname)) # python 3\n",
    "\n",
    "    if i%50==0:\n",
    "        print('.\\n')\n",
    "    else:\n",
    "        print('.', end='')\n",
    "    time.sleep(1) # to avoid launching too many download requests at once\n",
    "    \n",
    "    break # remove break to keep downloading images\n",
    "    "
   ]
  },
  {
   "cell_type": "code",
   "execution_count": null,
   "metadata": {
    "collapsed": true
   },
   "outputs": [],
   "source": []
  }
 ],
 "metadata": {
  "kernelspec": {
   "display_name": "Python 3",
   "language": "python",
   "name": "python3"
  },
  "language_info": {
   "codemirror_mode": {
    "name": "ipython",
    "version": 3
   },
   "file_extension": ".py",
   "mimetype": "text/x-python",
   "name": "python",
   "nbconvert_exporter": "python",
   "pygments_lexer": "ipython3",
   "version": "3.6.0"
  }
 },
 "nbformat": 4,
 "nbformat_minor": 2
}
